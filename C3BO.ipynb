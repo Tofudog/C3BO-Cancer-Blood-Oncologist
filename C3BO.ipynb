{
 "cells": [
  {
   "cell_type": "markdown",
   "metadata": {},
   "source": [
    "# C3BO: Cancer Blood Oncologist"
   ]
  },
  {
   "cell_type": "markdown",
   "metadata": {},
   "source": [
    "### Necessary Imports"
   ]
  },
  {
   "cell_type": "code",
   "execution_count": 1,
   "metadata": {},
   "outputs": [],
   "source": [
    "import numpy as np # linear algebra\n",
    "import pandas as pd # data processing, CSV file I/O (e.g. pd.read_csv)\n",
    "import matplotlib.pyplot as plt\n",
    "import glob\n",
    "import os\n",
    "\n",
    "from skimage.io import imread, imshow\n",
    "\n",
    "from skimage.transform import resize\n",
    "from sklearn.utils import shuffle\n",
    "from tqdm import tqdm\n",
    "\n",
    "import tkinter as tk\n",
    "import PIL\n",
    "from PIL import Image, ImageTk\n",
    "from tkinter import filedialog\n",
    "\n",
    "\n",
    "import tensorflow as tf\n",
    "import keras\n",
    "from tensorflow.keras.preprocessing import image\n",
    "from tensorflow.keras.preprocessing.image import ImageDataGenerator\n",
    "from tensorflow.keras.models import Sequential\n",
    "from tensorflow.keras.layers import InputLayer,Conv2D,MaxPool2D,BatchNormalization,Dropout,Flatten,Dense\n",
    "from tensorflow.keras.callbacks import EarlyStopping\n",
    "from tensorflow.keras.optimizers import RMSprop"
   ]
  },
  {
   "cell_type": "markdown",
   "metadata": {},
   "source": [
    "### File Handling"
   ]
  },
  {
   "cell_type": "code",
   "execution_count": 2,
   "metadata": {},
   "outputs": [],
   "source": [
    "train_dataset_0_all = glob.glob('C-NMC_Leukemia/training_data/fold_0/all/*.bmp')\n",
    "train_dataset_0_hem = glob.glob('C-NMC_Leukemia/training_data/fold_0/hem/*.bmp')\n",
    "train_dataset_1_all = glob.glob('C-NMC_Leukemia/training_data/fold_1/all/*.bmp')\n",
    "train_dataset_1_hem = glob.glob('C-NMC_Leukemia/training_data/fold_1/hem/*.bmp')\n",
    "train_dataset_2_all = glob.glob('C-NMC_Leukemia/training_data/fold_2/all/*.bmp')\n",
    "train_dataset_2_hem = glob.glob('C-NMC_Leukemia/training_data/fold_2/hem/*.bmp')"
   ]
  },
  {
   "cell_type": "code",
   "execution_count": 3,
   "metadata": {},
   "outputs": [
    {
     "name": "stdout",
     "output_type": "stream",
     "text": [
      "(450, 450, 3)\n"
     ]
    }
   ],
   "source": [
    "print(imread(train_dataset_0_all[0]).shape)"
   ]
  },
  {
   "cell_type": "code",
   "execution_count": 4,
   "metadata": {},
   "outputs": [],
   "source": [
    "train = ImageDataGenerator(rescale=1./255)\n",
    "validation = ImageDataGenerator(rescale=1./255)"
   ]
  },
  {
   "cell_type": "code",
   "execution_count": 5,
   "metadata": {},
   "outputs": [
    {
     "name": "stdout",
     "output_type": "stream",
     "text": [
      "Found 3527 images belonging to 2 classes.\n"
     ]
    }
   ],
   "source": [
    "train_dataset = train.flow_from_directory('C-NMC_Leukemia/training_data/fold_0',\n",
    "                                         target_size=(200, 200),\n",
    "                                         batch_size=10,\n",
    "                                         class_mode=\"binary\")"
   ]
  },
  {
   "cell_type": "code",
   "execution_count": 6,
   "metadata": {},
   "outputs": [
    {
     "data": {
      "text/html": [
       "<div>\n",
       "<style scoped>\n",
       "    .dataframe tbody tr th:only-of-type {\n",
       "        vertical-align: middle;\n",
       "    }\n",
       "\n",
       "    .dataframe tbody tr th {\n",
       "        vertical-align: top;\n",
       "    }\n",
       "\n",
       "    .dataframe thead th {\n",
       "        text-align: right;\n",
       "    }\n",
       "</style>\n",
       "<table border=\"1\" class=\"dataframe\">\n",
       "  <thead>\n",
       "    <tr style=\"text-align: right;\">\n",
       "      <th></th>\n",
       "      <th>Patient_ID</th>\n",
       "      <th>new_names</th>\n",
       "      <th>labels</th>\n",
       "    </tr>\n",
       "  </thead>\n",
       "  <tbody>\n",
       "    <tr>\n",
       "      <th>0</th>\n",
       "      <td>UID_57_29_1_all.bmp</td>\n",
       "      <td>1.bmp</td>\n",
       "      <td>1</td>\n",
       "    </tr>\n",
       "    <tr>\n",
       "      <th>1</th>\n",
       "      <td>UID_57_22_2_all.bmp</td>\n",
       "      <td>2.bmp</td>\n",
       "      <td>1</td>\n",
       "    </tr>\n",
       "    <tr>\n",
       "      <th>2</th>\n",
       "      <td>UID_57_31_3_all.bmp</td>\n",
       "      <td>3.bmp</td>\n",
       "      <td>1</td>\n",
       "    </tr>\n",
       "    <tr>\n",
       "      <th>3</th>\n",
       "      <td>UID_H49_35_1_hem.bmp</td>\n",
       "      <td>4.bmp</td>\n",
       "      <td>0</td>\n",
       "    </tr>\n",
       "    <tr>\n",
       "      <th>4</th>\n",
       "      <td>UID_58_6_13_all.bmp</td>\n",
       "      <td>5.bmp</td>\n",
       "      <td>1</td>\n",
       "    </tr>\n",
       "    <tr>\n",
       "      <th>...</th>\n",
       "      <td>...</td>\n",
       "      <td>...</td>\n",
       "      <td>...</td>\n",
       "    </tr>\n",
       "    <tr>\n",
       "      <th>1862</th>\n",
       "      <td>UID_54_33_1_all.bmp</td>\n",
       "      <td>1863.bmp</td>\n",
       "      <td>1</td>\n",
       "    </tr>\n",
       "    <tr>\n",
       "      <th>1863</th>\n",
       "      <td>UID_55_24_1_all.bmp</td>\n",
       "      <td>1864.bmp</td>\n",
       "      <td>1</td>\n",
       "    </tr>\n",
       "    <tr>\n",
       "      <th>1864</th>\n",
       "      <td>UID_H32_20_1_hem.bmp</td>\n",
       "      <td>1865.bmp</td>\n",
       "      <td>0</td>\n",
       "    </tr>\n",
       "    <tr>\n",
       "      <th>1865</th>\n",
       "      <td>UID_54_30_2_all.bmp</td>\n",
       "      <td>1866.bmp</td>\n",
       "      <td>1</td>\n",
       "    </tr>\n",
       "    <tr>\n",
       "      <th>1866</th>\n",
       "      <td>UID_66_10_3_all.bmp</td>\n",
       "      <td>1867.bmp</td>\n",
       "      <td>1</td>\n",
       "    </tr>\n",
       "  </tbody>\n",
       "</table>\n",
       "<p>1867 rows × 3 columns</p>\n",
       "</div>"
      ],
      "text/plain": [
       "                Patient_ID new_names  labels\n",
       "0      UID_57_29_1_all.bmp     1.bmp       1\n",
       "1      UID_57_22_2_all.bmp     2.bmp       1\n",
       "2      UID_57_31_3_all.bmp     3.bmp       1\n",
       "3     UID_H49_35_1_hem.bmp     4.bmp       0\n",
       "4      UID_58_6_13_all.bmp     5.bmp       1\n",
       "...                    ...       ...     ...\n",
       "1862   UID_54_33_1_all.bmp  1863.bmp       1\n",
       "1863   UID_55_24_1_all.bmp  1864.bmp       1\n",
       "1864  UID_H32_20_1_hem.bmp  1865.bmp       0\n",
       "1865   UID_54_30_2_all.bmp  1866.bmp       1\n",
       "1866   UID_66_10_3_all.bmp  1867.bmp       1\n",
       "\n",
       "[1867 rows x 3 columns]"
      ]
     },
     "execution_count": 6,
     "metadata": {},
     "output_type": "execute_result"
    }
   ],
   "source": [
    "labels_df = pd.read_csv(\"C-NMC_Leukemia/validation_data/C-NMC_test_prelim_phase_data_labels.csv\")\n",
    "labels_df"
   ]
  },
  {
   "cell_type": "code",
   "execution_count": 7,
   "metadata": {},
   "outputs": [
    {
     "name": "stdout",
     "output_type": "stream",
     "text": [
      "Found 3581 images belonging to 2 classes.\n"
     ]
    }
   ],
   "source": [
    "valid_dataset = validation.flow_from_directory('C-NMC_Leukemia/training_data/fold_1',\n",
    "                                         target_size=(200, 200),\n",
    "                                         batch_size=10,\n",
    "                                         class_mode=\"binary\")"
   ]
  },
  {
   "cell_type": "markdown",
   "metadata": {},
   "source": [
    "### Constructing the CNN Classifier"
   ]
  },
  {
   "cell_type": "code",
   "execution_count": 8,
   "metadata": {},
   "outputs": [],
   "source": [
    "model = tf.keras.models.Sequential([\n",
    "    tf.keras.layers.Conv2D(16, (3,3), activation=\"relu\", input_shape=(200,200,3)),\n",
    "    tf.keras.layers.MaxPool2D(2,2),\n",
    "    \n",
    "    tf.keras.layers.Conv2D(32, (3,3), activation=\"relu\"),\n",
    "    tf.keras.layers.MaxPool2D(2,2),\n",
    "    \n",
    "    tf.keras.layers.Conv2D(64, (3,3), activation=\"relu\"),\n",
    "    tf.keras.layers.MaxPool2D(2,2),\n",
    "    \n",
    "    tf.keras.layers.Flatten(),\n",
    "    \n",
    "    tf.keras.layers.Dense(512, activation=\"relu\"),\n",
    "    \n",
    "    tf.keras.layers.Dense(1, activation=\"sigmoid\")\n",
    "])"
   ]
  },
  {
   "cell_type": "code",
   "execution_count": 9,
   "metadata": {},
   "outputs": [],
   "source": [
    "model.compile(loss=\"binary_crossentropy\",\n",
    "             optimizer=RMSprop(lr=0.001),\n",
    "             metrics=[\"accuracy\"])"
   ]
  },
  {
   "cell_type": "code",
   "execution_count": 10,
   "metadata": {},
   "outputs": [
    {
     "name": "stdout",
     "output_type": "stream",
     "text": [
      "Epoch 1/50\n",
      "5/5 [==============================] - 70s 17s/step - loss: 1.1231 - accuracy: 0.4231 - val_loss: 0.6039 - val_accuracy: 0.7294\n",
      "Epoch 2/50\n",
      "5/5 [==============================] - 49s 12s/step - loss: 0.6101 - accuracy: 0.6747 - val_loss: 0.4986 - val_accuracy: 0.6931\n",
      "Epoch 3/50\n",
      "5/5 [==============================] - 50s 12s/step - loss: 0.5509 - accuracy: 0.6914 - val_loss: 0.4520 - val_accuracy: 0.8246\n",
      "Epoch 4/50\n",
      "5/5 [==============================] - 50s 12s/step - loss: 0.6756 - accuracy: 0.6675 - val_loss: 0.4868 - val_accuracy: 0.7464\n",
      "Epoch 5/50\n",
      "5/5 [==============================] - 50s 12s/step - loss: 0.6873 - accuracy: 0.6500 - val_loss: 0.4342 - val_accuracy: 0.8319\n",
      "Epoch 6/50\n",
      "5/5 [==============================] - 60s 15s/step - loss: 0.3962 - accuracy: 0.8450 - val_loss: 0.4921 - val_accuracy: 0.8218\n",
      "Epoch 7/50\n",
      "5/5 [==============================] - 51s 13s/step - loss: 0.5908 - accuracy: 0.7328 - val_loss: 0.4191 - val_accuracy: 0.8280\n",
      "Epoch 8/50\n",
      "5/5 [==============================] - 55s 14s/step - loss: 0.3095 - accuracy: 0.9192 - val_loss: 0.5252 - val_accuracy: 0.8252\n",
      "Epoch 9/50\n",
      "5/5 [==============================] - 56s 14s/step - loss: 0.4982 - accuracy: 0.8328 - val_loss: 0.4185 - val_accuracy: 0.8277\n",
      "Epoch 10/50\n",
      "5/5 [==============================] - 51s 13s/step - loss: 0.5142 - accuracy: 0.8244 - val_loss: 0.4315 - val_accuracy: 0.8274\n",
      "Epoch 11/50\n",
      "5/5 [==============================] - 57s 14s/step - loss: 0.4739 - accuracy: 0.8122 - val_loss: 0.4030 - val_accuracy: 0.8319\n",
      "Epoch 12/50\n",
      "5/5 [==============================] - 60s 15s/step - loss: 0.3215 - accuracy: 0.8375 - val_loss: 0.4505 - val_accuracy: 0.8313\n",
      "Epoch 13/50\n",
      "5/5 [==============================] - 54s 13s/step - loss: 0.6083 - accuracy: 0.7603 - val_loss: 0.4984 - val_accuracy: 0.8319\n",
      "Epoch 14/50\n",
      "5/5 [==============================] - 51s 13s/step - loss: 0.4976 - accuracy: 0.8414 - val_loss: 0.4222 - val_accuracy: 0.8288\n",
      "Epoch 15/50\n",
      "5/5 [==============================] - 49s 12s/step - loss: 0.3653 - accuracy: 0.8586 - val_loss: 0.4643 - val_accuracy: 0.8070\n",
      "Epoch 16/50\n",
      "5/5 [==============================] - 50s 12s/step - loss: 0.5372 - accuracy: 0.8339 - val_loss: 0.4333 - val_accuracy: 0.8338\n",
      "Epoch 17/50\n",
      "5/5 [==============================] - 47s 12s/step - loss: 0.4876 - accuracy: 0.8108 - val_loss: 0.4018 - val_accuracy: 0.8330\n",
      "Epoch 18/50\n",
      "5/5 [==============================] - 44s 11s/step - loss: 0.6062 - accuracy: 0.7147 - val_loss: 0.4231 - val_accuracy: 0.8316\n",
      "Epoch 19/50\n",
      "5/5 [==============================] - 44s 11s/step - loss: 0.5073 - accuracy: 0.7667 - val_loss: 0.4089 - val_accuracy: 0.8313\n",
      "Epoch 20/50\n",
      "5/5 [==============================] - 43s 11s/step - loss: 0.4149 - accuracy: 0.8231 - val_loss: 0.4375 - val_accuracy: 0.8210\n",
      "Epoch 21/50\n",
      "5/5 [==============================] - 44s 11s/step - loss: 0.9345 - accuracy: 0.5833 - val_loss: 0.4452 - val_accuracy: 0.8054\n",
      "Epoch 22/50\n",
      "5/5 [==============================] - 44s 11s/step - loss: 0.5208 - accuracy: 0.7378 - val_loss: 0.4093 - val_accuracy: 0.8260\n",
      "Epoch 23/50\n",
      "5/5 [==============================] - 44s 11s/step - loss: 0.4657 - accuracy: 0.8056 - val_loss: 0.4289 - val_accuracy: 0.8218\n",
      "Epoch 24/50\n",
      "5/5 [==============================] - 43s 11s/step - loss: 0.3079 - accuracy: 0.9061 - val_loss: 0.4021 - val_accuracy: 0.8355\n",
      "Epoch 25/50\n",
      "5/5 [==============================] - 45s 11s/step - loss: 0.4102 - accuracy: 0.8342 - val_loss: 0.4388 - val_accuracy: 0.8079\n",
      "Epoch 26/50\n",
      "5/5 [==============================] - 44s 11s/step - loss: 0.5431 - accuracy: 0.7892 - val_loss: 0.4106 - val_accuracy: 0.8336\n",
      "Epoch 27/50\n",
      "5/5 [==============================] - 44s 11s/step - loss: 0.5055 - accuracy: 0.7936 - val_loss: 0.4040 - val_accuracy: 0.8344\n",
      "Epoch 28/50\n",
      "5/5 [==============================] - 45s 11s/step - loss: 0.4221 - accuracy: 0.9000 - val_loss: 0.4027 - val_accuracy: 0.8383\n",
      "Epoch 29/50\n",
      "5/5 [==============================] - 47s 12s/step - loss: 0.5767 - accuracy: 0.7117 - val_loss: 0.4655 - val_accuracy: 0.8308\n",
      "Epoch 30/50\n",
      "5/5 [==============================] - 45s 11s/step - loss: 0.5091 - accuracy: 0.8550 - val_loss: 0.4189 - val_accuracy: 0.8308\n",
      "Epoch 31/50\n",
      "5/5 [==============================] - 44s 11s/step - loss: 0.3913 - accuracy: 0.8892 - val_loss: 0.5334 - val_accuracy: 0.8324\n",
      "Epoch 32/50\n",
      "5/5 [==============================] - 46s 11s/step - loss: 0.4566 - accuracy: 0.7836 - val_loss: 0.3986 - val_accuracy: 0.8322\n",
      "Epoch 33/50\n",
      "5/5 [==============================] - 44s 11s/step - loss: 0.4784 - accuracy: 0.8153 - val_loss: 0.4215 - val_accuracy: 0.8216\n",
      "Epoch 34/50\n",
      "5/5 [==============================] - 46s 11s/step - loss: 0.4838 - accuracy: 0.8042 - val_loss: 0.3959 - val_accuracy: 0.8336\n",
      "Epoch 35/50\n",
      "5/5 [==============================] - 45s 11s/step - loss: 0.4266 - accuracy: 0.8106 - val_loss: 0.4975 - val_accuracy: 0.8252\n",
      "Epoch 36/50\n",
      "5/5 [==============================] - 50s 12s/step - loss: 0.5006 - accuracy: 0.7825 - val_loss: 0.4099 - val_accuracy: 0.8347\n",
      "Epoch 37/50\n",
      "5/5 [==============================] - 51s 13s/step - loss: 0.4265 - accuracy: 0.8553 - val_loss: 0.4205 - val_accuracy: 0.8333\n",
      "Epoch 38/50\n",
      "5/5 [==============================] - 51s 13s/step - loss: 0.5538 - accuracy: 0.7214 - val_loss: 0.4169 - val_accuracy: 0.8324\n",
      "Epoch 39/50\n",
      "5/5 [==============================] - 44s 11s/step - loss: 0.5042 - accuracy: 0.7672 - val_loss: 0.4241 - val_accuracy: 0.8352\n",
      "Epoch 40/50\n",
      "5/5 [==============================] - 41s 10s/step - loss: 0.5659 - accuracy: 0.7486 - val_loss: 0.4123 - val_accuracy: 0.8327\n",
      "Epoch 41/50\n",
      "5/5 [==============================] - 46s 11s/step - loss: 0.4411 - accuracy: 0.7867 - val_loss: 0.4553 - val_accuracy: 0.8202\n",
      "Epoch 42/50\n",
      "5/5 [==============================] - 40s 10s/step - loss: 0.3971 - accuracy: 0.8786 - val_loss: 0.4121 - val_accuracy: 0.8319\n",
      "Epoch 43/50\n",
      "5/5 [==============================] - 49s 12s/step - loss: 0.4524 - accuracy: 0.8686 - val_loss: 0.3978 - val_accuracy: 0.8372\n",
      "Epoch 44/50\n",
      "5/5 [==============================] - 45s 11s/step - loss: 0.4354 - accuracy: 0.8322 - val_loss: 0.4012 - val_accuracy: 0.8347\n",
      "Epoch 45/50\n",
      "5/5 [==============================] - 43s 11s/step - loss: 0.4529 - accuracy: 0.8331 - val_loss: 0.4142 - val_accuracy: 0.8364\n",
      "Epoch 46/50\n",
      "5/5 [==============================] - 46s 11s/step - loss: 0.4931 - accuracy: 0.7325 - val_loss: 0.4149 - val_accuracy: 0.8238\n",
      "Epoch 47/50\n",
      "5/5 [==============================] - 51s 13s/step - loss: 0.5467 - accuracy: 0.7156 - val_loss: 0.4017 - val_accuracy: 0.8341\n",
      "Epoch 48/50\n",
      "5/5 [==============================] - 51s 13s/step - loss: 0.4844 - accuracy: 0.7942 - val_loss: 0.3981 - val_accuracy: 0.8322\n",
      "Epoch 49/50\n",
      "5/5 [==============================] - 46s 11s/step - loss: 0.3817 - accuracy: 0.8869 - val_loss: 0.4455 - val_accuracy: 0.8235\n",
      "Epoch 50/50\n",
      "5/5 [==============================] - 50s 12s/step - loss: 0.5339 - accuracy: 0.8419 - val_loss: 0.4264 - val_accuracy: 0.8146\n"
     ]
    }
   ],
   "source": [
    "model_fit = model.fit(train_dataset,\n",
    "                     steps_per_epoch=5,\n",
    "                     epochs=50,\n",
    "                     validation_data=valid_dataset)\n"
   ]
  },
  {
   "cell_type": "code",
   "execution_count": 11,
   "metadata": {},
   "outputs": [
    {
     "data": {
      "text/plain": [
       "[1.0469669103622437,\n",
       " 0.5914564728736877,\n",
       " 0.5663458108901978,\n",
       " 0.6104210615158081,\n",
       " 0.6115512847900391,\n",
       " 0.3406863510608673,\n",
       " 0.6014813184738159,\n",
       " 0.2993161082267761,\n",
       " 0.478984534740448,\n",
       " 0.477760910987854,\n",
       " 0.45856723189353943,\n",
       " 0.4467586576938629,\n",
       " 0.7124108076095581,\n",
       " 0.4848019480705261,\n",
       " 0.3682847321033478,\n",
       " 0.6093093156814575,\n",
       " 0.4622076451778412,\n",
       " 0.5434808135032654,\n",
       " 0.4631587266921997,\n",
       " 0.4059748947620392,\n",
       " 0.7068912982940674,\n",
       " 0.48794955015182495,\n",
       " 0.5081198811531067,\n",
       " 0.358613520860672,\n",
       " 0.4183194637298584,\n",
       " 0.5223804712295532,\n",
       " 0.5295870304107666,\n",
       " 0.3953782320022583,\n",
       " 0.641495943069458,\n",
       " 0.5074658393859863,\n",
       " 0.33068203926086426,\n",
       " 0.4557282626628876,\n",
       " 0.5235757231712341,\n",
       " 0.45614293217658997,\n",
       " 0.5475324392318726,\n",
       " 0.499533087015152,\n",
       " 0.48499739170074463,\n",
       " 0.5028566122055054,\n",
       " 0.5347884893417358,\n",
       " 0.5024392008781433,\n",
       " 0.41743332147598267,\n",
       " 0.5275909304618835,\n",
       " 0.4837116301059723,\n",
       " 0.5013781189918518,\n",
       " 0.48239925503730774,\n",
       " 0.47387778759002686,\n",
       " 0.4556351900100708,\n",
       " 0.43715900182724,\n",
       " 0.4123254418373108,\n",
       " 0.45011380314826965]"
      ]
     },
     "execution_count": 11,
     "metadata": {},
     "output_type": "execute_result"
    }
   ],
   "source": [
    "model_fit.history[\"loss\"]"
   ]
  },
  {
   "cell_type": "markdown",
   "metadata": {},
   "source": [
    "### Plotting images and setting xlabel as predicted output"
   ]
  },
  {
   "cell_type": "code",
   "execution_count": 12,
   "metadata": {},
   "outputs": [
    {
     "data": {
      "image/png": "[encoded data removed]",
      "text/plain": [
       "<Figure size 432x288 with 1 Axes>"
      ]
     },
     "metadata": {
      "needs_background": "light"
     },
     "output_type": "display_data"
    },
    {
     "name": "stdout",
     "output_type": "stream",
     "text": [
      "You have leukemia\n"
     ]
    }
   ],
   "source": [
    "dir_path = \"C-NMC_Leukemia/testing_data/C-NMC_test_final_phase_data\"\n",
    "\n",
    "for i in os.listdir(dir_path):\n",
    "    img = image.load_img(dir_path + \"//\" + i, target_size=(200, 200))\n",
    "    plt.imshow(img)\n",
    "    plt.show()\n",
    "    \n",
    "    X = image.img_to_array(img)\n",
    "    X = np.expand_dims(X, axis=0)\n",
    "    images = np.vstack([X])\n",
    "    val = model.predict(images)\n",
    "    if val == 0:\n",
    "        print(\"You do not have leukemia\")\n",
    "    else:\n",
    "        print(\"You have leukemia\")\n",
    "    break"
   ]
  },
  {
   "cell_type": "code",
   "execution_count": 13,
   "metadata": {},
   "outputs": [
    {
     "name": "stdout",
     "output_type": "stream",
     "text": [
      "{'all': 0, 'hem': 1}\n"
     ]
    }
   ],
   "source": [
    "print(train_dataset.class_indices)\n",
    "classes = [\"You do not have leukemia\", \"You have leukemia\"]"
   ]
  },
  {
   "cell_type": "markdown",
   "metadata": {},
   "source": [
    "### Creating GUI Application"
   ]
  },
  {
   "cell_type": "code",
   "execution_count": 14,
   "metadata": {},
   "outputs": [
    {
     "data": {
      "text/plain": [
       "''"
      ]
     },
     "execution_count": 14,
     "metadata": {},
     "output_type": "execute_result"
    }
   ],
   "source": [
    "root = tk.Tk()  # Initializing class\n",
    "root.title(\"C3BO: Cancer Blood Oncologist\")\n",
    "root.geometry(\"2000x2000\")"
   ]
  },
  {
   "cell_type": "code",
   "execution_count": 15,
   "metadata": {},
   "outputs": [],
   "source": [
    "greetingC3BO = \"Hello there! I am C3BO\\n\"\n",
    "greetingC3BO += \"Using Convolutional Neural Networks, my brilliant\\n creator Leonardo Amatoregis de Farias\\n\"\n",
    "greetingC3BO += \"trained me to predict blood cancer\"\n",
    "\n",
    "phrasesC3BO = [\n",
    "    \"Is that a nice hat you've got?\",\n",
    "    \"Wonderful weather we are having is it not?\",\n",
    "    \"Did you know that I am fluent in over six million forms of communication\",\n",
    "    \"I enjoy listening to the sound of rain\",\n",
    "    \"Do you know what a sigmoid function is?\",\n",
    "    \"Water and metal mix rather curiously...\"\n",
    "]"
   ]
  },
  {
   "cell_type": "code",
   "execution_count": 16,
   "metadata": {},
   "outputs": [],
   "source": [
    "# GUI Properties\n",
    "WIDTH, HEIGHT = 300, 300\n",
    "DEFAULTCOLOR = \"#f25f55\""
   ]
  },
  {
   "cell_type": "code",
   "execution_count": 17,
   "metadata": {},
   "outputs": [],
   "source": [
    "def showRobot():\n",
    "    robImgLabel = tk.Label(root, bg=DEFAULTCOLOR)\n",
    "    robImgLabel.place(relx=0.1, rely=0.4)  #robImgLabel.pack(side=tk.LEFT, anchor=\"sw\", pady=100)\n",
    "\n",
    "    uploaded = Image.open(\"C3BO.png\")\n",
    "    uploaded = uploaded.resize((261, 320))\n",
    "    robImg = ImageTk.PhotoImage(uploaded)\n",
    "    robImgLabel.configure(image=robImg)\n",
    "    robImgLabel.image = robImg"
   ]
  },
  {
   "cell_type": "code",
   "execution_count": 18,
   "metadata": {},
   "outputs": [],
   "source": [
    "bg = tk.Label(root, bg=DEFAULTCOLOR)\n",
    "bg.place(relwidth=1, relheight=1)\n",
    "\n",
    "sign_image = tk.Label(root, bg=DEFAULTCOLOR)\n",
    "sign_image.place(relx=0.5, rely=0.5, anchor=tk.CENTER)\n",
    "\n",
    "clfLabel = tk.Label(root, font=(\"Rockwell Condensed\", 20),\n",
    "                    text=greetingC3BO, bg=\"#d9cb96\", fg=\"#6e5907\")\n",
    "clfLabel.pack(side=tk.LEFT, anchor=\"nw\", pady=145)"
   ]
  },
  {
   "cell_type": "code",
   "execution_count": 19,
   "metadata": {},
   "outputs": [],
   "source": [
    "actual_filepath = None\n",
    "\n",
    "def uploadImage():\n",
    "    global actual_filepath\n",
    "    Image_Width = 200\n",
    "    Image_Height = 200\n",
    "    Image_Size = (Image_Width, Image_Height)\n",
    "    curr_file = None\n",
    "\n",
    "    actual_filepath = filedialog.askopenfilename()\n",
    "    print(actual_filepath)\n",
    "    \n",
    "    def iterateThroughFile():\n",
    "        try:\n",
    "            curr_file = np.random.randint(1, 200)\n",
    "            file_path = dir_path + \"//\" + str(curr_file) + \".bmp\"\n",
    "            uploaded = Image.open(file_path)\n",
    "            uploaded.thumbnail(Image_Size)\n",
    "            im = ImageTk.PhotoImage(uploaded)\n",
    "            sign_image.configure(image=im)\n",
    "            sign_image.image = im\n",
    "        except Exception as e:\n",
    "            print(e)\n",
    "#         root.after(25, iterateThroughFile)\n",
    "    \n",
    "    iterateThroughFile()"
   ]
  },
  {
   "cell_type": "code",
   "execution_count": 20,
   "metadata": {},
   "outputs": [],
   "source": [
    "def classifyImage():\n",
    "    img = image.load_img(actual_filepath, target_size=(200, 200))\n",
    "    X = image.img_to_array(img)\n",
    "    X = np.expand_dims(X, axis=0)\n",
    "    images = np.vstack([X])\n",
    "    val = model.predict(images)\n",
    "    print(f\"Patient {actual_filepath} {classes[int(val)]}\")\n",
    "    clfLabel.config(text=classes[int(val)])"
   ]
  },
  {
   "cell_type": "code",
   "execution_count": 21,
   "metadata": {},
   "outputs": [],
   "source": [
    "def exitProgram():\n",
    "    exit_button = tk.Button(root, bg=\"cyan\", text=\"Exit\", command=root.destroy) \n",
    "    exit_button.place(relx=0.8, rely=0.0, relwidth=0.15, relheight=0.1)"
   ]
  },
  {
   "cell_type": "code",
   "execution_count": 22,
   "metadata": {},
   "outputs": [],
   "source": [
    "uploadImgButton = tk.Button(root, text=\"upload image\",\n",
    "                            bg=\"#f0b8b4\", activebackground=\"#d4a29f\", command=uploadImage)\n",
    "uploadImgButton.pack(side=tk.BOTTOM, pady=50)\n",
    "\n",
    "classifyImgButton = tk.Button(root, text=\"classify image\",\n",
    "                              bg=\"#f0b8b4\", command=classifyImage)\n",
    "classifyImgButton.place(relx=0.79,rely=0.46)\n",
    "\n",
    "showRobot()\n",
    "exitProgram()"
   ]
  },
  {
   "cell_type": "code",
   "execution_count": 23,
   "metadata": {},
   "outputs": [
    {
     "data": {
      "text/plain": [
       "['C-NMC_Leukemia/testing_data/C-NMC_test_final_phase_data//1.bmp']"
      ]
     },
     "execution_count": 23,
     "metadata": {},
     "output_type": "execute_result"
    }
   ],
   "source": [
    "flpth = \"C-NMC_Leukemia/testing_data/C-NMC_test_final_phase_data\"\n",
    "full = glob.glob(flpth + \"//\" + \"1.bmp\")\n",
    "full"
   ]
  },
  {
   "cell_type": "code",
   "execution_count": 24,
   "metadata": {},
   "outputs": [],
   "source": [
    "def main():\n",
    "    root.mainloop()"
   ]
  },
  {
   "cell_type": "code",
   "execution_count": 25,
   "metadata": {},
   "outputs": [
    {
     "name": "stdout",
     "output_type": "stream",
     "text": [
      "C:/Users/leode/C-NMC_Leukemia/testing_data/C-NMC_test_final_phase_data/8.bmp\n",
      "Patient C:/Users/leode/C-NMC_Leukemia/testing_data/C-NMC_test_final_phase_data/8.bmp You have leukemia\n",
      "C:/Users/leode/C-NMC_Leukemia/testing_data/C-NMC_test_final_phase_data/9.bmp\n",
      "Patient C:/Users/leode/C-NMC_Leukemia/testing_data/C-NMC_test_final_phase_data/9.bmp You have leukemia\n"
     ]
    }
   ],
   "source": [
    "main()"
   ]
  },
  {
   "cell_type": "code",
   "execution_count": 26,
   "metadata": {},
   "outputs": [
    {
     "data": {
      "text/plain": [
       "{'all': 0, 'hem': 1}"
      ]
     },
     "execution_count": 26,
     "metadata": {},
     "output_type": "execute_result"
    }
   ],
   "source": [
    "train_dataset.class_indices"
   ]
  },
  {
   "cell_type": "markdown",
   "metadata": {},
   "source": [
    "### Plotting both the training and validation accuracy"
   ]
  },
  {
   "cell_type": "code",
   "execution_count": 27,
   "metadata": {},
   "outputs": [
    {
     "data": {
      "text/plain": [
       "{'loss': [1.0469669103622437,\n",
       "  0.5914564728736877,\n",
       "  0.5663458108901978,\n",
       "  0.6104210615158081,\n",
       "  0.6115512847900391,\n",
       "  0.3406863510608673,\n",
       "  0.6014813184738159,\n",
       "  0.2993161082267761,\n",
       "  0.478984534740448,\n",
       "  0.477760910987854,\n",
       "  0.45856723189353943,\n",
       "  0.4467586576938629,\n",
       "  0.7124108076095581,\n",
       "  0.4848019480705261,\n",
       "  0.3682847321033478,\n",
       "  0.6093093156814575,\n",
       "  0.4622076451778412,\n",
       "  0.5434808135032654,\n",
       "  0.4631587266921997,\n",
       "  0.4059748947620392,\n",
       "  0.7068912982940674,\n",
       "  0.48794955015182495,\n",
       "  0.5081198811531067,\n",
       "  0.358613520860672,\n",
       "  0.4183194637298584,\n",
       "  0.5223804712295532,\n",
       "  0.5295870304107666,\n",
       "  0.3953782320022583,\n",
       "  0.641495943069458,\n",
       "  0.5074658393859863,\n",
       "  0.33068203926086426,\n",
       "  0.4557282626628876,\n",
       "  0.5235757231712341,\n",
       "  0.45614293217658997,\n",
       "  0.5475324392318726,\n",
       "  0.499533087015152,\n",
       "  0.48499739170074463,\n",
       "  0.5028566122055054,\n",
       "  0.5347884893417358,\n",
       "  0.5024392008781433,\n",
       "  0.41743332147598267,\n",
       "  0.5275909304618835,\n",
       "  0.4837116301059723,\n",
       "  0.5013781189918518,\n",
       "  0.48239925503730774,\n",
       "  0.47387778759002686,\n",
       "  0.4556351900100708,\n",
       "  0.43715900182724,\n",
       "  0.4123254418373108,\n",
       "  0.45011380314826965],\n",
       " 'accuracy': [0.4399999976158142,\n",
       "  0.7200000286102295,\n",
       "  0.7200000286102295,\n",
       "  0.7400000095367432,\n",
       "  0.699999988079071,\n",
       "  0.8600000143051147,\n",
       "  0.7400000095367432,\n",
       "  0.9200000166893005,\n",
       "  0.8399999737739563,\n",
       "  0.8399999737739563,\n",
       "  0.8199999928474426,\n",
       "  0.800000011920929,\n",
       "  0.6600000262260437,\n",
       "  0.8199999928474426,\n",
       "  0.8799999952316284,\n",
       "  0.7599999904632568,\n",
       "  0.8199999928474426,\n",
       "  0.7400000095367432,\n",
       "  0.800000011920929,\n",
       "  0.8399999737739563,\n",
       "  0.699999988079071,\n",
       "  0.7799999713897705,\n",
       "  0.800000011920929,\n",
       "  0.8600000143051147,\n",
       "  0.8399999737739563,\n",
       "  0.7799999713897705,\n",
       "  0.7599999904632568,\n",
       "  0.8999999761581421,\n",
       "  0.6600000262260437,\n",
       "  0.8399999737739563,\n",
       "  0.8799999952316284,\n",
       "  0.7799999713897705,\n",
       "  0.800000011920929,\n",
       "  0.800000011920929,\n",
       "  0.7400000095367432,\n",
       "  0.7599999904632568,\n",
       "  0.8199999928474426,\n",
       "  0.7599999904632568,\n",
       "  0.7599999904632568,\n",
       "  0.800000011920929,\n",
       "  0.7599999904632568,\n",
       "  0.8399999737739563,\n",
       "  0.8600000143051147,\n",
       "  0.7799999713897705,\n",
       "  0.8199999928474426,\n",
       "  0.7599999904632568,\n",
       "  0.7799999713897705,\n",
       "  0.8199999928474426,\n",
       "  0.8399999737739563,\n",
       "  0.8799999952316284],\n",
       " 'val_loss': [0.6038516163825989,\n",
       "  0.49861428141593933,\n",
       "  0.4519715905189514,\n",
       "  0.4868003726005554,\n",
       "  0.43417051434516907,\n",
       "  0.4921080768108368,\n",
       "  0.41908854246139526,\n",
       "  0.5252406597137451,\n",
       "  0.4184951186180115,\n",
       "  0.43149441480636597,\n",
       "  0.4030155837535858,\n",
       "  0.45048788189888,\n",
       "  0.49840760231018066,\n",
       "  0.4221513867378235,\n",
       "  0.4642598032951355,\n",
       "  0.43330734968185425,\n",
       "  0.40178382396698,\n",
       "  0.4230617880821228,\n",
       "  0.4088672399520874,\n",
       "  0.43751612305641174,\n",
       "  0.44522392749786377,\n",
       "  0.4093133509159088,\n",
       "  0.42885851860046387,\n",
       "  0.4021308720111847,\n",
       "  0.43881890177726746,\n",
       "  0.41058212518692017,\n",
       "  0.403976172208786,\n",
       "  0.4027261734008789,\n",
       "  0.46546897292137146,\n",
       "  0.4188788831233978,\n",
       "  0.5334215760231018,\n",
       "  0.39855483174324036,\n",
       "  0.4215114712715149,\n",
       "  0.395925372838974,\n",
       "  0.49745237827301025,\n",
       "  0.4099002778530121,\n",
       "  0.4205036163330078,\n",
       "  0.41692888736724854,\n",
       "  0.42407211661338806,\n",
       "  0.41231483221054077,\n",
       "  0.45531246066093445,\n",
       "  0.4121105372905731,\n",
       "  0.39779558777809143,\n",
       "  0.4012247622013092,\n",
       "  0.41422101855278015,\n",
       "  0.4148794710636139,\n",
       "  0.4017493724822998,\n",
       "  0.39806118607521057,\n",
       "  0.4454941153526306,\n",
       "  0.4264242947101593],\n",
       " 'val_accuracy': [0.7294051647186279,\n",
       "  0.6931024789810181,\n",
       "  0.8246299624443054,\n",
       "  0.746439516544342,\n",
       "  0.8318905234336853,\n",
       "  0.8218374848365784,\n",
       "  0.8279809951782227,\n",
       "  0.8251885175704956,\n",
       "  0.82770174741745,\n",
       "  0.8274224996566772,\n",
       "  0.8318905234336853,\n",
       "  0.8313320279121399,\n",
       "  0.8318905234336853,\n",
       "  0.8288187384605408,\n",
       "  0.8070371150970459,\n",
       "  0.833845317363739,\n",
       "  0.8330075144767761,\n",
       "  0.8316112756729126,\n",
       "  0.8313320279121399,\n",
       "  0.8209997415542603,\n",
       "  0.8053616285324097,\n",
       "  0.8260262608528137,\n",
       "  0.8218374848365784,\n",
       "  0.8355208039283752,\n",
       "  0.8078749179840088,\n",
       "  0.8335660696029663,\n",
       "  0.8344038128852844,\n",
       "  0.8383133411407471,\n",
       "  0.8307735323905945,\n",
       "  0.8307735323905945,\n",
       "  0.8324490189552307,\n",
       "  0.832169771194458,\n",
       "  0.8215582370758057,\n",
       "  0.8335660696029663,\n",
       "  0.8251885175704956,\n",
       "  0.8346830606460571,\n",
       "  0.8332867622375488,\n",
       "  0.8324490189552307,\n",
       "  0.8352415561676025,\n",
       "  0.8327282667160034,\n",
       "  0.8201619386672974,\n",
       "  0.8318905234336853,\n",
       "  0.8371962904930115,\n",
       "  0.8346830606460571,\n",
       "  0.8363585472106934,\n",
       "  0.8237922191619873,\n",
       "  0.8341245651245117,\n",
       "  0.832169771194458,\n",
       "  0.8235129714012146,\n",
       "  0.8145769238471985]}"
      ]
     },
     "execution_count": 27,
     "metadata": {},
     "output_type": "execute_result"
    }
   ],
   "source": [
    "model_fit.history"
   ]
  },
  {
   "cell_type": "code",
   "execution_count": 29,
   "metadata": {},
   "outputs": [
    {
     "data": {
      "image/png": "[encoded data removed]",
      "text/plain": [
       "<Figure size 432x288 with 1 Axes>"
      ]
     },
     "metadata": {
      "needs_background": "light"
     },
     "output_type": "display_data"
    }
   ],
   "source": [
    "plt.title(\"Model Accuracy\")\n",
    "plt.xlabel(\"epochs\")\n",
    "plt.ylabel(\"accuracy\")\n",
    "plt.plot(model_fit.history[\"val_accuracy\"], label=\"validation accuracy\")\n",
    "plt.plot(model_fit.history[\"val_loss\"], label=\"validation loss\")\n",
    "plt.plot(model_fit.history[\"accuracy\"], label=\"accuracy\")\n",
    "plt.plot(model_fit.history[\"loss\"], label=\"loss\")\n",
    "plt.legend(loc=\"upper right\")\n",
    "plt.savefig(\"acc.png\")\n",
    "plt.show()"
   ]
  }
 ],
 "metadata": {
  "kernelspec": {
   "display_name": "Python 3",
   "language": "python",
   "name": "python3"
  },
  "language_info": {
   "codemirror_mode": {
    "name": "ipython",
    "version": 3
   },
   "file_extension": ".py",
   "mimetype": "text/x-python",
   "name": "python",
   "nbconvert_exporter": "python",
   "pygments_lexer": "ipython3",
   "version": "3.8.5"
  }
 },
 "nbformat": 4,
 "nbformat_minor": 4
}
