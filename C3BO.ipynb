{
 "cells": [
  {
   "cell_type": "markdown",
   "metadata": {},
   "source": [
    "# C3BO: Cancer Blood Oncologist"
   ]
  },
  {
   "cell_type": "markdown",
   "metadata": {},
   "source": [
    "### Necessary Imports"
   ]
  },
  {
   "cell_type": "code",
   "execution_count": 1,
   "metadata": {},
   "outputs": [],
   "source": [
    "import numpy as np # linear algebra\n",
    "import pandas as pd # data processing, CSV file I/O (e.g. pd.read_csv)\n",
    "import matplotlib.pyplot as plt\n",
    "import glob\n",
    "import os\n",
    "\n",
    "from skimage.io import imread, imshow\n",
    "\n",
    "from skimage.transform import resize\n",
    "from sklearn.utils import shuffle\n",
    "from tqdm import tqdm\n",
    "\n",
    "import tkinter as tk\n",
    "import PIL\n",
    "from PIL import Image, ImageTk\n",
    "from tkinter import filedialog\n",
    "\n",
    "\n",
    "import tensorflow as tf\n",
    "import keras\n",
    "from tensorflow.keras.preprocessing import image\n",
    "from tensorflow.keras.preprocessing.image import ImageDataGenerator\n",
    "from tensorflow.keras.models import Sequential\n",
    "from tensorflow.keras.layers import InputLayer,Conv2D,MaxPool2D,BatchNormalization,Dropout,Flatten,Dense\n",
    "from tensorflow.keras.callbacks import EarlyStopping\n",
    "from tensorflow.keras.optimizers import RMSprop"
   ]
  },
  {
   "cell_type": "markdown",
   "metadata": {},
   "source": [
    "### File Handling"
   ]
  },
  {
   "cell_type": "code",
   "execution_count": 2,
   "metadata": {},
   "outputs": [],
   "source": [
    "train_dataset_0_all = glob.glob('C-NMC_Leukemia/training_data/fold_0/all/*.bmp')\n",
    "train_dataset_0_hem = glob.glob('C-NMC_Leukemia/training_data/fold_0/hem/*.bmp')\n",
    "train_dataset_1_all = glob.glob('C-NMC_Leukemia/training_data/fold_1/all/*.bmp')\n",
    "train_dataset_1_hem = glob.glob('C-NMC_Leukemia/training_data/fold_1/hem/*.bmp')\n",
    "train_dataset_2_all = glob.glob('C-NMC_Leukemia/training_data/fold_2/all/*.bmp')\n",
    "train_dataset_2_hem = glob.glob('C-NMC_Leukemia/training_data/fold_2/hem/*.bmp')"
   ]
  },
  {
   "cell_type": "code",
   "execution_count": 3,
   "metadata": {},
   "outputs": [
    {
     "name": "stdout",
     "output_type": "stream",
     "text": [
      "(450, 450, 3)\n"
     ]
    }
   ],
   "source": [
    "print(imread(train_dataset_0_all[0]).shape)"
   ]
  },
  {
   "cell_type": "code",
   "execution_count": 4,
   "metadata": {},
   "outputs": [],
   "source": [
    "train = ImageDataGenerator(rescale=1./255)\n",
    "validation = ImageDataGenerator(rescale=1./255)"
   ]
  },
  {
   "cell_type": "code",
   "execution_count": 5,
   "metadata": {},
   "outputs": [
    {
     "name": "stdout",
     "output_type": "stream",
     "text": [
      "Found 3527 images belonging to 2 classes.\n"
     ]
    }
   ],
   "source": [
    "train_dataset = train.flow_from_directory('C-NMC_Leukemia/training_data/fold_0',\n",
    "                                         target_size=(200, 200),\n",
    "                                         batch_size=10,\n",
    "                                         class_mode=\"binary\")"
   ]
  },
  {
   "cell_type": "code",
   "execution_count": 6,
   "metadata": {},
   "outputs": [
    {
     "data": {
      "text/html": [
       "<div>\n",
       "<style scoped>\n",
       "    .dataframe tbody tr th:only-of-type {\n",
       "        vertical-align: middle;\n",
       "    }\n",
       "\n",
       "    .dataframe tbody tr th {\n",
       "        vertical-align: top;\n",
       "    }\n",
       "\n",
       "    .dataframe thead th {\n",
       "        text-align: right;\n",
       "    }\n",
       "</style>\n",
       "<table border=\"1\" class=\"dataframe\">\n",
       "  <thead>\n",
       "    <tr style=\"text-align: right;\">\n",
       "      <th></th>\n",
       "      <th>Patient_ID</th>\n",
       "      <th>new_names</th>\n",
       "      <th>labels</th>\n",
       "    </tr>\n",
       "  </thead>\n",
       "  <tbody>\n",
       "    <tr>\n",
       "      <th>0</th>\n",
       "      <td>UID_57_29_1_all.bmp</td>\n",
       "      <td>1.bmp</td>\n",
       "      <td>1</td>\n",
       "    </tr>\n",
       "    <tr>\n",
       "      <th>1</th>\n",
       "      <td>UID_57_22_2_all.bmp</td>\n",
       "      <td>2.bmp</td>\n",
       "      <td>1</td>\n",
       "    </tr>\n",
       "    <tr>\n",
       "      <th>2</th>\n",
       "      <td>UID_57_31_3_all.bmp</td>\n",
       "      <td>3.bmp</td>\n",
       "      <td>1</td>\n",
       "    </tr>\n",
       "    <tr>\n",
       "      <th>3</th>\n",
       "      <td>UID_H49_35_1_hem.bmp</td>\n",
       "      <td>4.bmp</td>\n",
       "      <td>0</td>\n",
       "    </tr>\n",
       "    <tr>\n",
       "      <th>4</th>\n",
       "      <td>UID_58_6_13_all.bmp</td>\n",
       "      <td>5.bmp</td>\n",
       "      <td>1</td>\n",
       "    </tr>\n",
       "    <tr>\n",
       "      <th>...</th>\n",
       "      <td>...</td>\n",
       "      <td>...</td>\n",
       "      <td>...</td>\n",
       "    </tr>\n",
       "    <tr>\n",
       "      <th>1862</th>\n",
       "      <td>UID_54_33_1_all.bmp</td>\n",
       "      <td>1863.bmp</td>\n",
       "      <td>1</td>\n",
       "    </tr>\n",
       "    <tr>\n",
       "      <th>1863</th>\n",
       "      <td>UID_55_24_1_all.bmp</td>\n",
       "      <td>1864.bmp</td>\n",
       "      <td>1</td>\n",
       "    </tr>\n",
       "    <tr>\n",
       "      <th>1864</th>\n",
       "      <td>UID_H32_20_1_hem.bmp</td>\n",
       "      <td>1865.bmp</td>\n",
       "      <td>0</td>\n",
       "    </tr>\n",
       "    <tr>\n",
       "      <th>1865</th>\n",
       "      <td>UID_54_30_2_all.bmp</td>\n",
       "      <td>1866.bmp</td>\n",
       "      <td>1</td>\n",
       "    </tr>\n",
       "    <tr>\n",
       "      <th>1866</th>\n",
       "      <td>UID_66_10_3_all.bmp</td>\n",
       "      <td>1867.bmp</td>\n",
       "      <td>1</td>\n",
       "    </tr>\n",
       "  </tbody>\n",
       "</table>\n",
       "<p>1867 rows × 3 columns</p>\n",
       "</div>"
      ],
      "text/plain": [
       "                Patient_ID new_names  labels\n",
       "0      UID_57_29_1_all.bmp     1.bmp       1\n",
       "1      UID_57_22_2_all.bmp     2.bmp       1\n",
       "2      UID_57_31_3_all.bmp     3.bmp       1\n",
       "3     UID_H49_35_1_hem.bmp     4.bmp       0\n",
       "4      UID_58_6_13_all.bmp     5.bmp       1\n",
       "...                    ...       ...     ...\n",
       "1862   UID_54_33_1_all.bmp  1863.bmp       1\n",
       "1863   UID_55_24_1_all.bmp  1864.bmp       1\n",
       "1864  UID_H32_20_1_hem.bmp  1865.bmp       0\n",
       "1865   UID_54_30_2_all.bmp  1866.bmp       1\n",
       "1866   UID_66_10_3_all.bmp  1867.bmp       1\n",
       "\n",
       "[1867 rows x 3 columns]"
      ]
     },
     "execution_count": 6,
     "metadata": {},
     "output_type": "execute_result"
    }
   ],
   "source": [
    "labels_df = pd.read_csv(\"C-NMC_Leukemia/validation_data/C-NMC_test_prelim_phase_data_labels.csv\")\n",
    "labels_df"
   ]
  },
  {
   "cell_type": "code",
   "execution_count": 7,
   "metadata": {},
   "outputs": [
    {
     "name": "stdout",
     "output_type": "stream",
     "text": [
      "Found 3581 images belonging to 2 classes.\n"
     ]
    }
   ],
   "source": [
    "valid_dataset = validation.flow_from_directory('C-NMC_Leukemia/training_data/fold_1',\n",
    "                                         target_size=(200, 200),\n",
    "                                         batch_size=10,\n",
    "                                         class_mode=\"binary\")"
   ]
  },
  {
   "cell_type": "markdown",
   "metadata": {},
   "source": [
    "### Constructing the CNN Classifier"
   ]
  },
  {
   "cell_type": "code",
   "execution_count": 8,
   "metadata": {},
   "outputs": [],
   "source": [
    "model = tf.keras.models.Sequential([\n",
    "    tf.keras.layers.Conv2D(16, (3,3), activation=\"relu\", input_shape=(200,200,3)),\n",
    "    tf.keras.layers.MaxPool2D(2,2),\n",
    "    \n",
    "    tf.keras.layers.Conv2D(32, (3,3), activation=\"relu\"),\n",
    "    tf.keras.layers.MaxPool2D(2,2),\n",
    "    \n",
    "    tf.keras.layers.Conv2D(64, (3,3), activation=\"relu\"),\n",
    "    tf.keras.layers.MaxPool2D(2,2),\n",
    "    \n",
    "    tf.keras.layers.Flatten(),\n",
    "    \n",
    "    tf.keras.layers.Dense(512, activation=\"relu\"),\n",
    "    \n",
    "    tf.keras.layers.Dense(1, activation=\"sigmoid\")\n",
    "])"
   ]
  },
  {
   "cell_type": "code",
   "execution_count": 9,
   "metadata": {},
   "outputs": [],
   "source": [
    "model.compile(loss=\"binary_crossentropy\",\n",
    "             optimizer=RMSprop(lr=0.001),\n",
    "             metrics=[\"accuracy\"])"
   ]
  },
  {
   "cell_type": "code",
   "execution_count": 10,
   "metadata": {},
   "outputs": [
    {
     "name": "stdout",
     "output_type": "stream",
     "text": [
      "Epoch 1/15\n",
      "5/5 [==============================] - 75s 17s/step - loss: 0.6776 - accuracy: 0.4839 - val_loss: 0.5524 - val_accuracy: 0.7210\n",
      "Epoch 2/15\n",
      "5/5 [==============================] - 53s 13s/step - loss: 0.5807 - accuracy: 0.7589 - val_loss: 0.4250 - val_accuracy: 0.8305\n",
      "Epoch 3/15\n",
      "5/5 [==============================] - 59s 15s/step - loss: 0.5237 - accuracy: 0.7722 - val_loss: 0.4465 - val_accuracy: 0.8246\n",
      "Epoch 4/15\n",
      "5/5 [==============================] - 80s 20s/step - loss: 0.4577 - accuracy: 0.7997 - val_loss: 0.4161 - val_accuracy: 0.8397\n",
      "Epoch 5/15\n",
      "5/5 [==============================] - 71s 17s/step - loss: 0.3450 - accuracy: 0.8661 - val_loss: 0.4273 - val_accuracy: 0.8364\n",
      "Epoch 6/15\n",
      "5/5 [==============================] - 62s 15s/step - loss: 0.5104 - accuracy: 0.7228 - val_loss: 0.5419 - val_accuracy: 0.8308\n",
      "Epoch 7/15\n",
      "5/5 [==============================] - 52s 13s/step - loss: 0.5521 - accuracy: 0.8422 - val_loss: 0.4120 - val_accuracy: 0.8344\n",
      "Epoch 8/15\n",
      "5/5 [==============================] - 56s 14s/step - loss: 0.4342 - accuracy: 0.8242 - val_loss: 0.4442 - val_accuracy: 0.8378\n",
      "Epoch 9/15\n",
      "5/5 [==============================] - 50s 12s/step - loss: 0.3719 - accuracy: 0.9039 - val_loss: 0.4223 - val_accuracy: 0.8378\n",
      "Epoch 10/15\n",
      "5/5 [==============================] - 48s 12s/step - loss: 0.3486 - accuracy: 0.8261 - val_loss: 0.4273 - val_accuracy: 0.8324\n",
      "Epoch 11/15\n",
      "5/5 [==============================] - 47s 11s/step - loss: 0.4493 - accuracy: 0.7725 - val_loss: 0.4102 - val_accuracy: 0.8350\n",
      "Epoch 12/15\n",
      "5/5 [==============================] - 45s 11s/step - loss: 0.5628 - accuracy: 0.8367 - val_loss: 0.4256 - val_accuracy: 0.8322\n",
      "Epoch 13/15\n",
      "5/5 [==============================] - 50s 12s/step - loss: 0.6203 - accuracy: 0.6928 - val_loss: 0.4299 - val_accuracy: 0.8263\n",
      "Epoch 14/15\n",
      "5/5 [==============================] - 49s 12s/step - loss: 0.5015 - accuracy: 0.7797 - val_loss: 0.4538 - val_accuracy: 0.7964\n",
      "Epoch 15/15\n",
      "5/5 [==============================] - 52s 13s/step - loss: 0.5003 - accuracy: 0.8189 - val_loss: 0.4150 - val_accuracy: 0.8319\n"
     ]
    }
   ],
   "source": [
    "model_fit = model.fit(train_dataset,\n",
    "                     steps_per_epoch=5,\n",
    "                     epochs=15,\n",
    "                     validation_data=valid_dataset)"
   ]
  },
  {
   "cell_type": "code",
   "execution_count": 11,
   "metadata": {},
   "outputs": [
    {
     "data": {
      "text/plain": [
       "[0.6540865898132324,\n",
       " 0.5589650869369507,\n",
       " 0.5021294355392456,\n",
       " 0.4685474634170532,\n",
       " 0.3928323984146118,\n",
       " 0.420233815908432,\n",
       " 0.49709662795066833,\n",
       " 0.39722466468811035,\n",
       " 0.5230552554130554,\n",
       " 0.3822981119155884,\n",
       " 0.45596709847450256,\n",
       " 0.4809120297431946,\n",
       " 0.5578126907348633,\n",
       " 0.5316179990768433,\n",
       " 0.46869826316833496]"
      ]
     },
     "execution_count": 11,
     "metadata": {},
     "output_type": "execute_result"
    }
   ],
   "source": [
    "model_fit.history[\"loss\"]"
   ]
  },
  {
   "cell_type": "markdown",
   "metadata": {},
   "source": [
    "### Plotting images and setting xlabel as predicted output"
   ]
  },
  {
   "cell_type": "code",
   "execution_count": 12,
   "metadata": {},
   "outputs": [
    {
     "data": {
      "image/png": "[encoded data removed]",
      "text/plain": [
       "<Figure size 432x288 with 1 Axes>"
      ]
     },
     "metadata": {
      "needs_background": "light"
     },
     "output_type": "display_data"
    },
    {
     "name": "stdout",
     "output_type": "stream",
     "text": [
      "You have leukemia\n"
     ]
    }
   ],
   "source": [
    "dir_path = \"C-NMC_Leukemia/testing_data/C-NMC_test_final_phase_data\"\n",
    "\n",
    "for i in os.listdir(dir_path):\n",
    "    img = image.load_img(dir_path + \"//\" + i, target_size=(200, 200))\n",
    "    plt.imshow(img)\n",
    "    plt.show()\n",
    "    \n",
    "    X = image.img_to_array(img)\n",
    "    X = np.expand_dims(X, axis=0)\n",
    "    images = np.vstack([X])\n",
    "    val = model.predict(images)\n",
    "    if val == 0:\n",
    "        print(\"You do not have leukemia\")\n",
    "    else:\n",
    "        print(\"You have leukemia\")\n",
    "    break"
   ]
  },
  {
   "cell_type": "code",
   "execution_count": 13,
   "metadata": {},
   "outputs": [
    {
     "name": "stdout",
     "output_type": "stream",
     "text": [
      "{'all': 0, 'hem': 1}\n"
     ]
    }
   ],
   "source": [
    "print(train_dataset.class_indices)\n",
    "classes = [\"You do not have leukemia\", \"You have leukemia\"]"
   ]
  },
  {
   "cell_type": "markdown",
   "metadata": {},
   "source": [
    "### Creating GUI Application"
   ]
  },
  {
   "cell_type": "code",
   "execution_count": 14,
   "metadata": {},
   "outputs": [
    {
     "data": {
      "text/plain": [
       "''"
      ]
     },
     "execution_count": 14,
     "metadata": {},
     "output_type": "execute_result"
    }
   ],
   "source": [
    "root = tk.Tk()  # Initializing class\n",
    "root.title(\"C3BO: Cancer Blood Oncologist\")\n",
    "root.geometry(\"2000x2000\")"
   ]
  },
  {
   "cell_type": "code",
   "execution_count": 15,
   "metadata": {},
   "outputs": [],
   "source": [
    "greetingC3BO = \"Hello there! I am C3BO\\n\"\n",
    "greetingC3BO += \"Using Convolutional Neural Networks, my brilliant\\n creator Leonardo Amatoregis de Farias\\n\"\n",
    "greetingC3BO += \"trained me to predict blood cancer\"\n",
    "\n",
    "phrasesC3BO = [\n",
    "    \"Is that a nice hat you've got?\",\n",
    "    \"Wonderful weather we are having is it not?\",\n",
    "    \"Did you know that I am fluent in over six million forms of communication\",\n",
    "    \"I enjoy listening to the sound of rain\",\n",
    "    \"Do you know what a sigmoid function is?\",\n",
    "    \"Water and metal mix rather curiously...\"\n",
    "]"
   ]
  },
  {
   "cell_type": "code",
   "execution_count": 16,
   "metadata": {},
   "outputs": [],
   "source": [
    "# GUI Properties\n",
    "WIDTH, HEIGHT = 300, 300\n",
    "DEFAULTCOLOR = \"#f25f55\""
   ]
  },
  {
   "cell_type": "code",
   "execution_count": 17,
   "metadata": {},
   "outputs": [],
   "source": [
    "def showRobot():\n",
    "    robImgLabel = tk.Label(root, bg=DEFAULTCOLOR)\n",
    "    robImgLabel.place(relx=0.1, rely=0.4)  #robImgLabel.pack(side=tk.LEFT, anchor=\"sw\", pady=100)\n",
    "\n",
    "    uploaded = Image.open(\"C3BO.png\")\n",
    "    uploaded = uploaded.resize((261, 320))\n",
    "    robImg = ImageTk.PhotoImage(uploaded)\n",
    "    robImgLabel.configure(image=robImg)\n",
    "    robImgLabel.image = robImg"
   ]
  },
  {
   "cell_type": "code",
   "execution_count": 18,
   "metadata": {},
   "outputs": [],
   "source": [
    "bg = tk.Label(root, bg=DEFAULTCOLOR)\n",
    "bg.place(relwidth=1, relheight=1)\n",
    "\n",
    "sign_image = tk.Label(root, bg=DEFAULTCOLOR)\n",
    "sign_image.place(relx=0.5, rely=0.5, anchor=tk.CENTER)\n",
    "\n",
    "clfLabel = tk.Label(root, font=(\"Rockwell Condensed\", 20),\n",
    "                    text=greetingC3BO, bg=\"#d9cb96\", fg=\"#6e5907\")\n",
    "clfLabel.pack(side=tk.LEFT, anchor=\"nw\", pady=150)"
   ]
  },
  {
   "cell_type": "code",
   "execution_count": 19,
   "metadata": {},
   "outputs": [],
   "source": [
    "actual_filepath = None\n",
    "\n",
    "def uploadImage():\n",
    "    global actual_filepath\n",
    "    Image_Width = 200\n",
    "    Image_Height = 200\n",
    "    Image_Size = (Image_Width, Image_Height)\n",
    "    curr_file = None\n",
    "\n",
    "    actual_filepath = filedialog.askopenfilename()\n",
    "    print(actual_filepath)\n",
    "    \n",
    "    def iterateThroughFile():\n",
    "        try:\n",
    "            curr_file = np.random.randint(1, 200)\n",
    "            file_path = dir_path + \"//\" + str(curr_file) + \".bmp\"\n",
    "            uploaded = Image.open(file_path)\n",
    "            uploaded.thumbnail(Image_Size)\n",
    "            im = ImageTk.PhotoImage(uploaded)\n",
    "            sign_image.configure(image=im)\n",
    "            sign_image.image = im\n",
    "        except Exception as e:\n",
    "            print(e)\n",
    "#         root.after(25, iterateThroughFile)\n",
    "    \n",
    "    iterateThroughFile()"
   ]
  },
  {
   "cell_type": "code",
   "execution_count": 20,
   "metadata": {},
   "outputs": [],
   "source": [
    "def classifyImage():\n",
    "    img = image.load_img(actual_filepath, target_size=(200, 200))\n",
    "    X = image.img_to_array(img)\n",
    "    X = np.expand_dims(X, axis=0)\n",
    "    images = np.vstack([X])\n",
    "    val = model.predict(images)\n",
    "    print(f\"Patient {actual_filepath} {classes[int(val)]}\")\n",
    "    clfLabel.config(text=classes[int(val)])"
   ]
  },
  {
   "cell_type": "code",
   "execution_count": 21,
   "metadata": {},
   "outputs": [],
   "source": [
    "def exitProgram():\n",
    "    exit_button = tk.Button(root, bg=\"cyan\", text=\"Exit\", command=root.destroy) \n",
    "    exit_button.place(relx=0.5, rely=0.0, relwidth=0.15, relheight=0.1)"
   ]
  },
  {
   "cell_type": "code",
   "execution_count": 22,
   "metadata": {},
   "outputs": [],
   "source": [
    "uploadImgButton = tk.Button(root, text=\"upload image\",\n",
    "                            bg=\"#f0b8b4\", activebackground=\"#d4a29f\", command=uploadImage)\n",
    "uploadImgButton.pack(side=tk.BOTTOM, pady=50)\n",
    "\n",
    "classifyImgButton = tk.Button(root, text=\"classify image\",\n",
    "                              bg=\"#f0b8b4\", command=classifyImage)\n",
    "classifyImgButton.place(relx=0.79,rely=0.46)\n",
    "\n",
    "showRobot()\n",
    "exitProgram()"
   ]
  },
  {
   "cell_type": "code",
   "execution_count": 23,
   "metadata": {},
   "outputs": [
    {
     "data": {
      "text/plain": [
       "['C-NMC_Leukemia/testing_data/C-NMC_test_final_phase_data//1.bmp']"
      ]
     },
     "execution_count": 23,
     "metadata": {},
     "output_type": "execute_result"
    }
   ],
   "source": [
    "flpth = \"C-NMC_Leukemia/testing_data/C-NMC_test_final_phase_data\"\n",
    "full = glob.glob(flpth + \"//\" + \"1.bmp\")\n",
    "full"
   ]
  },
  {
   "cell_type": "code",
   "execution_count": 24,
   "metadata": {},
   "outputs": [],
   "source": [
    "def main():\n",
    "    root.mainloop()"
   ]
  },
  {
   "cell_type": "code",
   "execution_count": 25,
   "metadata": {},
   "outputs": [
    {
     "name": "stdout",
     "output_type": "stream",
     "text": [
      "C:/Users/leode/C-NMC_Leukemia/testing_data/C-NMC_test_final_phase_data/7.bmp\n",
      "Patient C:/Users/leode/C-NMC_Leukemia/testing_data/C-NMC_test_final_phase_data/7.bmp You have leukemia\n",
      "C:/Users/leode/C-NMC_Leukemia/testing_data/C-NMC_test_final_phase_data/10.bmp\n",
      "Patient C:/Users/leode/C-NMC_Leukemia/testing_data/C-NMC_test_final_phase_data/10.bmp You have leukemia\n",
      "C:/Users/leode/C-NMC_Leukemia/testing_data/C-NMC_test_final_phase_data/13.bmp\n",
      "Patient C:/Users/leode/C-NMC_Leukemia/testing_data/C-NMC_test_final_phase_data/13.bmp You do not have leukemia\n"
     ]
    }
   ],
   "source": [
    "main()"
   ]
  },
  {
   "cell_type": "code",
   "execution_count": 26,
   "metadata": {},
   "outputs": [
    {
     "data": {
      "text/plain": [
       "{'all': 0, 'hem': 1}"
      ]
     },
     "execution_count": 26,
     "metadata": {},
     "output_type": "execute_result"
    }
   ],
   "source": [
    "train_dataset.class_indices"
   ]
  },
  {
   "cell_type": "markdown",
   "metadata": {},
   "source": [
    "### Plotting both the training and validation accuracy"
   ]
  },
  {
   "cell_type": "code",
   "execution_count": 27,
   "metadata": {},
   "outputs": [
    {
     "data": {
      "text/plain": [
       "{'loss': [0.6540865898132324,\n",
       "  0.5589650869369507,\n",
       "  0.5021294355392456,\n",
       "  0.4685474634170532,\n",
       "  0.3928323984146118,\n",
       "  0.420233815908432,\n",
       "  0.49709662795066833,\n",
       "  0.39722466468811035,\n",
       "  0.5230552554130554,\n",
       "  0.3822981119155884,\n",
       "  0.45596709847450256,\n",
       "  0.4809120297431946,\n",
       "  0.5578126907348633,\n",
       "  0.5316179990768433,\n",
       "  0.46869826316833496],\n",
       " 'accuracy': [0.5600000023841858,\n",
       "  0.7599999904632568,\n",
       "  0.800000011920929,\n",
       "  0.8199999928474426,\n",
       "  0.8399999737739563,\n",
       "  0.7599999904632568,\n",
       "  0.8600000143051147,\n",
       "  0.8600000143051147,\n",
       "  0.8199999928474426,\n",
       "  0.8199999928474426,\n",
       "  0.7799999713897705,\n",
       "  0.8600000143051147,\n",
       "  0.7200000286102295,\n",
       "  0.7599999904632568,\n",
       "  0.8399999737739563],\n",
       " 'val_loss': [0.5524483323097229,\n",
       "  0.4249953627586365,\n",
       "  0.446541428565979,\n",
       "  0.4160535931587219,\n",
       "  0.4273034334182739,\n",
       "  0.5418801307678223,\n",
       "  0.41202953457832336,\n",
       "  0.44420549273490906,\n",
       "  0.4222533106803894,\n",
       "  0.42727211117744446,\n",
       "  0.41015973687171936,\n",
       "  0.42556849122047424,\n",
       "  0.42985326051712036,\n",
       "  0.4537840187549591,\n",
       "  0.415040522813797],\n",
       " 'val_accuracy': [0.721027672290802,\n",
       "  0.8304942846298218,\n",
       "  0.8246299624443054,\n",
       "  0.8397095799446106,\n",
       "  0.8363585472106934,\n",
       "  0.8307735323905945,\n",
       "  0.8344038128852844,\n",
       "  0.8377548456192017,\n",
       "  0.8377548456192017,\n",
       "  0.8324490189552307,\n",
       "  0.8349623084068298,\n",
       "  0.832169771194458,\n",
       "  0.8263055086135864,\n",
       "  0.7964255809783936,\n",
       "  0.8318905234336853]}"
      ]
     },
     "execution_count": 27,
     "metadata": {},
     "output_type": "execute_result"
    }
   ],
   "source": [
    "model_fit.history"
   ]
  },
  {
   "cell_type": "code",
   "execution_count": 28,
   "metadata": {},
   "outputs": [
    {
     "data": {
      "image/png": "[encoded data removed]",
      "text/plain": [
       "<Figure size 432x288 with 1 Axes>"
      ]
     },
     "metadata": {
      "needs_background": "light"
     },
     "output_type": "display_data"
    }
   ],
   "source": [
    "plt.title(\"Model Accuracy\")\n",
    "plt.xlabel(\"epochs\")\n",
    "plt.ylabel(\"accuracy\")\n",
    "plt.plot(model_fit.history[\"val_accuracy\"], label=\"validation accuracy\")\n",
    "plt.plot(model_fit.history[\"val_loss\"], label=\"validation loss\")\n",
    "plt.plot(model_fit.history[\"accuracy\"], label=\"accuracy\")\n",
    "plt.plot(model_fit.history[\"loss\"], label=\"loss\")\n",
    "plt.legend(loc=\"best\")\n",
    "plt.show()"
   ]
  }
 ],
 "metadata": {
  "kernelspec": {
   "display_name": "Python 3",
   "language": "python",
   "name": "python3"
  },
  "language_info": {
   "codemirror_mode": {
    "name": "ipython",
    "version": 3
   },
   "file_extension": ".py",
   "mimetype": "text/x-python",
   "name": "python",
   "nbconvert_exporter": "python",
   "pygments_lexer": "ipython3",
   "version": "3.8.5"
  }
 },
 "nbformat": 4,
 "nbformat_minor": 4
}
